{
  "nbformat": 4,
  "nbformat_minor": 0,
  "metadata": {
    "colab": {
      "name": "Untitled1.ipynb",
      "provenance": [],
      "private_outputs": true,
      "authorship_tag": "ABX9TyOR+4IqSH+7U6TG4JG/h2KA",
      "include_colab_link": true
    },
    "kernelspec": {
      "name": "python3",
      "display_name": "Python 3"
    },
    "accelerator": "TPU"
  },
  "cells": [
    {
      "cell_type": "markdown",
      "metadata": {
        "id": "view-in-github",
        "colab_type": "text"
      },
      "source": [
        "<a href=\"https://colab.research.google.com/github/ilx-prof/MyPyton-test/blob/master/Untitled1.ipynb\" target=\"_parent\"><img src=\"https://colab.research.google.com/assets/colab-badge.svg\" alt=\"Open In Colab\"/></a>"
      ]
    },
    {
      "cell_type": "code",
      "metadata": {
        "id": "_Ec1S3Y77q8P",
        "colab_type": "code",
        "colab": {}
      },
      "source": [
        "import pandas as pd\n",
        "import re\n",
        " \n",
        "from google.colab import files\n",
        "uploaded = files.upload()\n",
        "iodf2 = pd.read_csv(\"Set1.csv\",sep=\";\", error_bad_lines=False)\n",
        "iodf2[\"Text\"][0]\n",
        "def clean_word(str_word):\n",
        "  reg = re.compile('[^а-яА-Яa-zA-Z0-9 ]')\n",
        "  return (reg.sub('', str_word).lower().split())\n",
        "def revers (arr,yadro):\n",
        "  road={}\n",
        "  if(yadro in arr ):\n",
        "    a = arr.index(yadro)\n",
        "  else:\n",
        "#    print(yadro)\n",
        "    return {}\n",
        "  for key in arr:\n",
        "    a +=1\n",
        "    if (key != yadro):\n",
        "      if key in road: \n",
        "        road[key][0]=road[key][0]+1\n",
        "        if (road[key][1] > a):\n",
        "          road[key][1]= a\n",
        "      else:\n",
        "        road[key] = [1,a]\n",
        "    else:\n",
        "      #print (a)\n",
        "      a=0\n",
        "  return road\n",
        "def road_map(comment,yadro = 'bmw'):\n",
        "  \n",
        "  arr = clean_word(comment)\n",
        "#  print(arr)\n",
        "  R_r = revers (arr,yadro)\n",
        "  R_l = revers (arr[::-1],yadro)\n",
        "  for a in R_r:\n",
        "    if(R_r[a][1]>R_l[a][1]):\n",
        "      R_r[a][1]=R_l[a][1]\n",
        "  return (R_r)\n",
        "#  ar2 = [i.lower() for i in comment.split(sep=\"bmw\")]\n",
        "grov = pd.DataFrame()\n",
        "for c in iodf2[\"Text\"]:\n",
        "  r = road_map(c)\n",
        "  gener = pd.DataFrame(r).T\n",
        "  if(len(grov) == 0):\n",
        "    grov = gener\n",
        "  else:\n",
        "    grov = pd.concat([grov, gener], axis=0)\n",
        "grov.sort_values([0,1])"
      ],
      "execution_count": null,
      "outputs": []
    }
  ]
}