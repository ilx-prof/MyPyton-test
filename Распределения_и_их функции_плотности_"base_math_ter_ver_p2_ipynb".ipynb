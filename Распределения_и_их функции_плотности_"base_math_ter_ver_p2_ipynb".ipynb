{
  "nbformat": 4,
  "nbformat_minor": 0,
  "metadata": {
    "colab": {
      "name": "Копия блокнота \"base_math_ter_ver_p2.ipynb\"",
      "provenance": [],
      "collapsed_sections": [],
      "include_colab_link": true
    },
    "kernelspec": {
      "name": "python2",
      "display_name": "Python 2"
    }
  },
  "cells": [
    {
      "cell_type": "markdown",
      "metadata": {
        "id": "view-in-github",
        "colab_type": "text"
      },
      "source": [
        "<a href=\"https://colab.research.google.com/github/ilx-prof/MyPyton-test/blob/master/%D0%A0%D0%B0%D1%81%D0%BF%D1%80%D0%B5%D0%B4%D0%B5%D0%BB%D0%B5%D0%BD%D0%B8%D1%8F_%D0%B8_%D0%B8%D1%85%20%D1%84%D1%83%D0%BD%D0%BA%D1%86%D0%B8%D0%B8_%D0%BF%D0%BB%D0%BE%D1%82%D0%BD%D0%BE%D1%81%D1%82%D0%B8_%22base_math_ter_ver_p2_ipynb%22.ipynb\" target=\"_parent\"><img src=\"https://colab.research.google.com/assets/colab-badge.svg\" alt=\"Open In Colab\"/></a>"
      ]
    },
    {
      "cell_type": "markdown",
      "metadata": {
        "id": "TWUa6yqHmGDY"
      },
      "source": [
        "#Теория вероятности часть 2"
      ]
    },
    {
      "cell_type": "markdown",
      "metadata": {
        "id": "al9EmbkwmGey"
      },
      "source": [
        "## Распределения и их функции плотности"
      ]
    },
    {
      "cell_type": "markdown",
      "metadata": {
        "id": "2lHv730Ismea"
      },
      "source": [
        "Задача 1\n",
        "\n",
        "Непрерывная случайная величина X задана функцией плотности распределения:\n",
        "$$f(x) =\\left\\{\\begin{matrix}\n",
        "0 &, if x\\leq -\\frac{\\pi }{2}  \\\\ b*cos(x)\n",
        " &, if -\\frac{\\pi }{2} < x< \\frac{\\pi }{2}  \\\\ 0\n",
        " &, if x \\geq  \\frac{\\pi }{2}\n",
        "\\end{matrix}\\right.$$\n",
        "Найти коэффициент b , Вычислить $P(0 \\leq x \\leq  \\frac{\\pi }{4})$"
      ]
    },
    {
      "cell_type": "code",
      "metadata": {
        "id": "5HwyCBlPuqVH",
        "outputId": "462c4842-26f6-43e0-9d84-0980f36c2210",
        "colab": {
          "base_uri": "https://localhost:8080/",
          "height": 51
        }
      },
      "source": [
        "# Используя свойство PDF: несобственный интеграл от - бесконечности до + бесконечности равен строго 1\n",
        "# интеграл(от -inf до -pi/2) от 0 + интеграл(от -pi/2 до pi/2) от b * cos(x) + интеграл(от pi/2 до +inf) от 0 = 1\n",
        "# интеграл(от -pi/2 до pi/2) от b * cos(x)  = 1 или b * интеграл(от -pi/2 до pi/2) cos(x) =1\n",
        "import numpy as np\n",
        "import scipy.integrate as integrate\n",
        "import scipy.special as special\n",
        "result = integrate.quad(lambda x: np.cos(x), -np.pi/2, np.pi/2)[0] # lambda x: np.cos(x) = > cos(x)dx\n",
        "интеграл -inf/+inf b*cos(x) =  1\n",
        "print(result)\n",
        "print(1/result)"
      ],
      "execution_count": null,
      "outputs": [
        {
          "output_type": "stream",
          "text": [
            "2.0\n",
            "0.5\n"
          ],
          "name": "stdout"
        }
      ]
    },
    {
      "cell_type": "code",
      "metadata": {
        "id": "Oznc9Il4yJs8",
        "outputId": "a5070f6e-0259-4eb5-be43-20459b9e3b0b",
        "colab": {
          "base_uri": "https://localhost:8080/",
          "height": 34
        }
      },
      "source": [
        "P_0_pi_4 = 0.5 * integrate.quad(lambda x: np.cos(x), 0, np.pi/4)[0]\n",
        "print(P_0_pi_4)"
      ],
      "execution_count": null,
      "outputs": [
        {
          "output_type": "stream",
          "text": [
            "0.353553390593\n"
          ],
          "name": "stdout"
        }
      ]
    },
    {
      "cell_type": "markdown",
      "metadata": {
        "id": "VORSmRQp4_lY"
      },
      "source": [
        "Задача 2\n",
        "\n",
        "Из пункта A ведётся стрельба из орудия вдоль прямой X. Предполагается, что дальность полёта распределена нормально с математическим ожиданием 1000 м и средним квадратическим отклонением 5 м. Определить сколько снарядов упадёт с перелётом от 5 до 70м."
      ]
    },
    {
      "cell_type": "code",
      "metadata": {
        "id": "-KZd0KMF5Jfe",
        "outputId": "47e42e0e-a828-41f6-cbd8-2dc1d7d526aa",
        "colab": {
          "base_uri": "https://localhost:8080/",
          "height": 34
        }
      },
      "source": [
        "# Ищем P(1005<x<1070)\n",
        "sigm = 5 \n",
        "mu = 1000\n",
        "#exp_ = - (((x-mu)**2)/float((2*(sigm**2))))\n",
        "result = 1/float(sigm * np.sqrt(2*np.pi)) * integrate.quad(lambda x: np.exp(- (((x-mu)**2)/float((2*(sigm**2))))), 1005, 1070)[0]\n",
        "result"
      ],
      "execution_count": null,
      "outputs": [
        {
          "output_type": "execute_result",
          "data": {
            "text/plain": [
              "0.15865525393145652"
            ]
          },
          "metadata": {
            "tags": []
          },
          "execution_count": 297
        }
      ]
    },
    {
      "cell_type": "code",
      "metadata": {
        "id": "RvO05Fu37qRo",
        "outputId": "c0e1aaf4-c9bb-4f04-f83b-79d6f731310b",
        "colab": {
          "base_uri": "https://localhost:8080/",
          "height": 34
        }
      },
      "source": [
        "# P(a < x < b) = P (x < b) - P(x < a) F(a,b) = F(b) - F(a)\n",
        "from scipy.stats import norm\n",
        "norm(loc=1000, scale=5).cdf(1070) - norm(1000,5).cdf(1005)"
      ],
      "execution_count": null,
      "outputs": [
        {
          "output_type": "execute_result",
          "data": {
            "text/plain": [
              "0.15865525393145707"
            ]
          },
          "metadata": {
            "tags": []
          },
          "execution_count": 298
        }
      ]
    },
    {
      "cell_type": "code",
      "metadata": {
        "id": "9XJ6yBMRCH4Z",
        "outputId": "4dc122a0-f137-4780-c313-911c615493ae",
        "colab": {
          "base_uri": "https://localhost:8080/",
          "height": 187
        }
      },
      "source": [
        "# Семплируем из распределения\n",
        "for i in range(10):\n",
        "  print(norm(loc=1000, scale=5).rvs())"
      ],
      "execution_count": null,
      "outputs": [
        {
          "output_type": "stream",
          "text": [
            "1009.3880412101148\n",
            "998.7915293097844\n",
            "1006.518141004114\n",
            "996.2924344197902\n",
            "995.1647996491802\n",
            "994.3129022767587\n",
            "999.7648309100875\n",
            "993.846651106398\n",
            "998.89235914903\n",
            "1005.9442920857368\n"
          ],
          "name": "stdout"
        }
      ]
    },
    {
      "cell_type": "markdown",
      "metadata": {
        "id": "AQpsvTnFCbKg"
      },
      "source": [
        "Задача 3\n",
        "\n",
        "\n",
        "Диаметр подшипников, изготовленных на заводе, представляет собой случайную величину, распределенную нормально с математическим ожиданием 1.8 см и средним квадратическим отклонением 0.075 см. Найти вероятность того, что размер наугад взятого подшипника колеблется от 1.7 до 1.85 см."
      ]
    },
    {
      "cell_type": "code",
      "metadata": {
        "id": "ebDJkGHhCsIq",
        "outputId": "1a8f2483-43c7-4839-8097-033ff582bfb6",
        "colab": {
          "base_uri": "https://localhost:8080/",
          "height": 34
        }
      },
      "source": [
        "# Ищем P(1005<x<1070) \n",
        "sigm = 0.075  \n",
        "mu = 1.8\n",
        "#exp_ = - (((x-mu)**2)/float((2*(sigm**2))))\n",
        "result = 1/float(sigm * np.sqrt(2*np.pi)) * integrate.quad(lambda x: np.exp(- (((x-mu)**2)/float((2*(sigm**2))))), 1.7, 1.85)[0]\n",
        "print(result)"
      ],
      "execution_count": null,
      "outputs": [
        {
          "output_type": "stream",
          "text": [
            "0.656296242727\n"
          ],
          "name": "stdout"
        }
      ]
    },
    {
      "cell_type": "code",
      "metadata": {
        "id": "_7IR-i2qDTkZ",
        "outputId": "e87e86db-bfc0-42a3-804d-9211fdc40180",
        "colab": {
          "base_uri": "https://localhost:8080/",
          "height": 34
        }
      },
      "source": [
        "# С использованием библиотеки scipy\n",
        "norm(loc=mu, scale=sigm).cdf(1.85) - norm(mu,sigm).cdf(1.7)"
      ],
      "execution_count": null,
      "outputs": [
        {
          "output_type": "execute_result",
          "data": {
            "text/plain": [
              "0.6562962427272097"
            ]
          },
          "metadata": {
            "tags": []
          },
          "execution_count": 78
        }
      ]
    },
    {
      "cell_type": "markdown",
      "metadata": {
        "id": "3ifZW_oUFTPW"
      },
      "source": [
        "Задача 4\n",
        "\n",
        "Непрерывная случайная величина X имеет одинаковую плотность распредления A на промежутке (-1,3) и нулевую плотнотсь вне этого промежутка, найти A, мат ожидание и дисперсию"
      ]
    },
    {
      "cell_type": "code",
      "metadata": {
        "id": "c42hdZzZFr5h",
        "outputId": "b1d1ce85-0c0d-4e8b-a2b5-57bf2f948772",
        "colab": {
          "base_uri": "https://localhost:8080/",
          "height": 68
        }
      },
      "source": [
        "# Так как случайная величина имеет константную плотность распределения на заданном промежутке и 0 вне его, перед нами равномерное распределение\n",
        "a=-1\n",
        "b=3\n",
        "A = 1/float(b-a)\n",
        "E = (a+b)/2.\n",
        "D = (b-a)**2 /12.\n",
        "print(\"Плотность распределния: {}\".format(A))\n",
        "print(\"Мат ожидание: {}\".format(E))\n",
        "print(\"Дисперсия: {}\".format(D))"
      ],
      "execution_count": null,
      "outputs": [
        {
          "output_type": "stream",
          "text": [
            "Плотность распределния: 0.25\n",
            "Мат ожидание: 1.0\n",
            "Дисперсия: 1.33333333333\n"
          ],
          "name": "stdout"
        }
      ]
    },
    {
      "cell_type": "markdown",
      "metadata": {
        "id": "ElyzKV3VIJBo"
      },
      "source": [
        "Задача 5\n",
        "\n",
        "Цена деления шкалы измерительного прибора равна 0.2. Показания прибора округляются до ближайшего целого деления. Считая, что погрешности округлений распределены равномерно, найти вероятность того, что при очередном измерении она не превзойдёт 0.03."
      ]
    },
    {
      "cell_type": "code",
      "metadata": {
        "id": "4Yj2MPemIQKa",
        "outputId": "56dfcbd1-3d8b-4ce1-efcf-809c8d71ada9",
        "colab": {
          "base_uri": "https://localhost:8080/",
          "height": 34
        }
      },
      "source": [
        "# 1. Найдем PDF (плотность вероятности)\n",
        "a=0\n",
        "b=0.2\n",
        "A = 1/float(b-a)\n",
        "print(\"Плотность распределния: {}\".format(A)) "
      ],
      "execution_count": null,
      "outputs": [
        {
          "output_type": "stream",
          "text": [
            "Плотность распределния: 5.0\n"
          ],
          "name": "stdout"
        }
      ]
    },
    {
      "cell_type": "code",
      "metadata": {
        "id": "xN8Ca-kOIg8V",
        "outputId": "7d105f72-d48c-4c06-f72f-d8d8e890afb0",
        "colab": {
          "base_uri": "https://localhost:8080/",
          "height": 34
        }
      },
      "source": [
        "# Когда погрешность округления до ближайшего деления не превзойдёт 0.03?\n",
        "# , когда стрелка остановится не далее чем на 0.03 от левого деления справа или не далее чем на 0.03 от правого деления слева. \n",
        "# Теперь найдем CDF (вероятность) погрешности для обоих интервалов \n",
        "p1 = integrate.quad(lambda x: A, 0, 0.03)[0]\n",
        "p2 = integrate.quad(lambda x: A, b-0.03, b)[0]\n",
        "\n",
        "P = p1+p2\n",
        "print(\"Искомая вероятность: {}\".format(P)) "
      ],
      "execution_count": null,
      "outputs": [
        {
          "output_type": "stream",
          "text": [
            "Искомая вероятность: 0.3\n"
          ],
          "name": "stdout"
        }
      ]
    },
    {
      "cell_type": "code",
      "metadata": {
        "id": "bLEH32b2KRiu",
        "outputId": "270cb8a9-4f16-42e6-adb2-a224888421a9",
        "colab": {
          "base_uri": "https://localhost:8080/",
          "height": 34
        }
      },
      "source": [
        "from scipy.stats import uniform\n",
        "# Используем готовую библиотеку scipy\n",
        "p1 = uniform(0,0.2).cdf(0.03) - uniform(0,0.2).cdf(0)\n",
        "p2 = uniform(0,0.2).cdf(b) - uniform(0,0.2).cdf(b-0.03)\n",
        "P = p1+p2\n",
        "print(\"Искомая вероятность: {}\".format(P)) "
      ],
      "execution_count": null,
      "outputs": [
        {
          "output_type": "stream",
          "text": [
            "Искомая вероятность: 0.3\n"
          ],
          "name": "stdout"
        }
      ]
    },
    {
      "cell_type": "markdown",
      "metadata": {
        "id": "YecPcGpPPX_4"
      },
      "source": [
        "Задача 6\n",
        "\n",
        "Найти вероятность появления Орла а)0 б)1 и в) 3 раза в 5 бросках монеты"
      ]
    },
    {
      "cell_type": "code",
      "metadata": {
        "id": "Bi_xhBPDPj0F",
        "outputId": "fb47e9e9-41a3-47ae-992b-ae4cd8d1c9c6",
        "colab": {
          "base_uri": "https://localhost:8080/",
          "height": 68
        }
      },
      "source": [
        "# Для вычисления мы сразу воспользуемся готовой билиотекой\n",
        "from scipy.stats import binom\n",
        "n = 5\n",
        "p = 0.5\n",
        "binomal = binom(n,p)\n",
        "print(\"Искомая вероятность a): {}\".format(binomal.pmf(0))) \n",
        "print(\"Искомая вероятность б): {}\".format(binomal.pmf(1))) \n",
        "print(\"Искомая вероятность в): {}\".format(binomal.pmf(3))) "
      ],
      "execution_count": null,
      "outputs": [
        {
          "output_type": "stream",
          "text": [
            "Искомая вероятность a): 0.03125\n",
            "Искомая вероятность б): 0.15625\n",
            "Искомая вероятность в): 0.3125\n"
          ],
          "name": "stdout"
        }
      ]
    },
    {
      "cell_type": "markdown",
      "metadata": {
        "id": "V73fvig_R1k7"
      },
      "source": [
        "Задача 7\n",
        "\n",
        "В новом микрорайоне поставлено 15000 кодовых замков на входных дверях домов. Вероятность выхода из строя одного замка в течение месяца равна 0.0003. Найти вероятность того, что за месяц откажет ровно 3 замка."
      ]
    },
    {
      "cell_type": "code",
      "metadata": {
        "id": "QAj8SIw7R9ar",
        "outputId": "302c4fe0-f970-4513-87c7-0df5d5a152e1",
        "colab": {
          "base_uri": "https://localhost:8080/",
          "height": 34
        }
      },
      "source": [
        "# Вычисления по прямой формуле биномального распределения будут ресурсозатратны из-за большого количества испытаний и маленькой вероятности, \n",
        "# вместо этого воспользуемся формулой Пуассона\n",
        "from scipy.stats import poisson\n",
        "n = 15000\n",
        "p = 0.0003\n",
        "mu = n*p\n",
        "pois = poisson(mu=mu)\n",
        "print(\"Искомая вероятность : {}\".format(pois.pmf(3))) "
      ],
      "execution_count": null,
      "outputs": [
        {
          "output_type": "stream",
          "text": [
            "Искомая вероятность : 0.168717884925\n"
          ],
          "name": "stdout"
        }
      ]
    },
    {
      "cell_type": "code",
      "metadata": {
        "id": "AO8RojKjRWyR",
        "outputId": "e60d44cc-8df1-41a1-a41f-f2b93a414574",
        "colab": {
          "base_uri": "https://localhost:8080/",
          "height": 34
        }
      },
      "source": [
        "# Теперь сравним с Оригинальными значениями\n",
        "n = 15000\n",
        "p = 0.0003\n",
        "binomal = binom(n,p)\n",
        "print(\"Искомая вероятность в): {}\".format(binomal.pmf(3))) "
      ],
      "execution_count": null,
      "outputs": [
        {
          "output_type": "stream",
          "text": [
            "Искомая вероятность в): 0.168722101045\n"
          ],
          "name": "stdout"
        }
      ]
    },
    {
      "cell_type": "markdown",
      "metadata": {
        "id": "MgoWJr5mWDGU"
      },
      "source": [
        "Задача 8\n",
        "\n",
        "Звонки в диспетчерскую такси представляет собой простой пуассоновский поток  со средней интенсивностью 50 вызовов в час. Найти вероятность того, что: а) за 1 мин. поступит 2-3 звонка, б) в течение пяти минут будет хотя бы один звонок.\n"
      ]
    },
    {
      "cell_type": "code",
      "metadata": {
        "id": "TTzmwZacWMBl",
        "outputId": "59c8699a-ce49-448d-9882-cf466024eef4",
        "colab": {
          "base_uri": "https://localhost:8080/",
          "height": 51
        }
      },
      "source": [
        "# Задаем распределение и свойства\n",
        "from scipy.stats import poisson\n",
        "\n",
        "mu = 50/60. #  интенсивность звонков в минуту\n",
        "pois = poisson(mu=mu)\n",
        "# Применяем теорему о сложении вероятностей\n",
        "p1 = pois.pmf(2) # За минуту поступит 2 звонка\n",
        "p2 = pois.pmf(3) # За минуту поступит 3 звонка\n",
        "print(\"Искомая вероятность а): {}\".format(p1+p2)) \n",
        "\n",
        "# Вычисляем интенсивность звонков в  5 минут\n",
        "mu = (50/60.) * 5\n",
        "pois = poisson(mu=mu)\n",
        "# Применяем свойство : полная группа вероятностей = 1\n",
        "p0 = pois.pmf(0) # Вычислим вероятность того что за 5 минут не поступит ни одного звонка\n",
        "print(\"Искомая вероятность б): {}\".format(1-p0))  # На основе упомянутого свойства найдем вероятноть противоположного события: поступит хотябы один звонок"
      ],
      "execution_count": null,
      "outputs": [
        {
          "output_type": "stream",
          "text": [
            "Искомая вероятность а): 0.192819421213\n",
            "Искомая вероятность б): 0.984496146401\n"
          ],
          "name": "stdout"
        }
      ]
    },
    {
      "cell_type": "markdown",
      "metadata": {
        "id": "HUkL2w48ZBPJ"
      },
      "source": [
        "Задача 9\n",
        "\n",
        "Интенсивность звонков в колцентре составляет 50 звонков в час. Какая вероятность того, что между звонками пройдет по крайней мере 4 минуты?"
      ]
    },
    {
      "cell_type": "code",
      "metadata": {
        "id": "47R1vrF2aQdU",
        "outputId": "f1bbd371-2b5d-4afe-e360-0e501ec10c2b",
        "colab": {
          "base_uri": "https://localhost:8080/",
          "height": 34
        }
      },
      "source": [
        "lambda_ = 50/60. # 1.5 звонков в минуту\n",
        "E  =  1/float(lambda_) # Среднее время ожидания звонка\n",
        "pmf =  integrate.quad(lambda x: (E)*np.exp(-E*x), 4, np.inf)[0]\n",
        "print(\"Искомая вероятность (классический метод): {}\".format(pmf))\n"
      ],
      "execution_count": null,
      "outputs": [
        {
          "output_type": "stream",
          "text": [
            "Искомая вероятность (классический метод): 0.00822974704902\n"
          ],
          "name": "stdout"
        }
      ]
    },
    {
      "cell_type": "markdown",
      "metadata": {
        "id": "hEuIKLA-lpI-"
      },
      "source": [
        "## Квантили, перцентили и моменты"
      ]
    },
    {
      "cell_type": "code",
      "metadata": {
        "id": "EyqkbTIflvlY"
      },
      "source": [
        "# Для вычисления моментов удобней всего использовать готовые бибилиотеки"
      ],
      "execution_count": null,
      "outputs": []
    },
    {
      "cell_type": "markdown",
      "metadata": {
        "id": "iqluyyCWmWUo"
      },
      "source": [
        "Задача 10\n",
        "\n",
        "Найти а)Среднее, Дисперсию, скошенность и куртозис б) 0.1 и 0.7 перцентили для нормального распределения со среднем = 0.5 и стандартным отклонением = 1"
      ]
    },
    {
      "cell_type": "code",
      "metadata": {
        "id": "c3UaiAUfmojX",
        "outputId": "419403c6-0a4e-405e-b823-08027076aa61",
        "colab": {
          "base_uri": "https://localhost:8080/",
          "height": 85
        }
      },
      "source": [
        "mu = 0.5\n",
        "std = 1.\n",
        "nor_d = norm(mu,std)\n",
        "mean, var, skew, kurt = nor_d.stats(moments='mvsk')\n",
        "print(\"Среднее: {}\".format(mean))\n",
        "print(\"Вариация: {}\".format(var))\n",
        "print(\"Скошенность: {}\".format(skew))\n",
        "print(\"Куртозис: {}\".format(kurt))"
      ],
      "execution_count": null,
      "outputs": [
        {
          "output_type": "stream",
          "text": [
            "Среднее: 0.5\n",
            "Вариация: 1.0\n",
            "Скошенность: 0.0\n",
            "Куртозис: 0.0\n"
          ],
          "name": "stdout"
        }
      ]
    },
    {
      "cell_type": "code",
      "metadata": {
        "id": "7wvqwhN1nApj",
        "outputId": "41c05557-1b30-4fc5-bc82-d3e3eb1b937a",
        "colab": {
          "base_uri": "https://localhost:8080/",
          "height": 51
        }
      },
      "source": [
        "print(\"Перцентиль 0.1: {}\".format(nor_d.ppf(0.1)))\n",
        "print(\"Перцентиль 0.7: {}\".format(nor_d.ppf(0.7)))"
      ],
      "execution_count": null,
      "outputs": [
        {
          "output_type": "stream",
          "text": [
            "Перцентиль 0.1: -0.781551565545\n",
            "Перцентиль 0.7: 1.02440051271\n"
          ],
          "name": "stdout"
        }
      ]
    },
    {
      "cell_type": "markdown",
      "metadata": {
        "id": "TtOIbei1oXKn"
      },
      "source": [
        "## Визуализация распределений"
      ]
    },
    {
      "cell_type": "code",
      "metadata": {
        "id": "EixGA4XdoY72",
        "outputId": "0b5390b4-8690-4ff8-f779-24e8b566c26a",
        "colab": {
          "base_uri": "https://localhost:8080/",
          "height": 51
        }
      },
      "source": [
        "from numpy.random import normal\n",
        "# Задаем распределение\n",
        "mu = 0.5\n",
        "sigma = 1\n",
        "n = 10\n",
        "# Генерируем 10 случайных точек из распределения\n",
        "sample = normal(mu, sigma, n)\n",
        "print(sample)"
      ],
      "execution_count": null,
      "outputs": [
        {
          "output_type": "stream",
          "text": [
            "[ 2.03778672  2.50460345  1.6288376   1.33951093  0.67297941  1.02557589\n",
            "  0.43740108  2.40196394  0.69432965 -0.51437686]\n"
          ],
          "name": "stdout"
        }
      ]
    },
    {
      "cell_type": "code",
      "metadata": {
        "id": "5RKvY6xkohSJ",
        "outputId": "9482db63-e9a6-4c95-8b24-35424d4f474d",
        "colab": {
          "base_uri": "https://localhost:8080/",
          "height": 538
        }
      },
      "source": [
        "from matplotlib import pyplot\n",
        "mu = 50\n",
        "sigma = 5\n",
        "# Задаем распределение\n",
        "dist = norm(mu, sigma)\n",
        "\n",
        "#  интервал для 95% вероятности\n",
        "low_end = dist.ppf(0.025)\n",
        "high_end = dist.ppf(0.975)\n",
        "print('Middle 95%% between %.1f and %.1f' % (low_end, high_end))\n",
        "#  pdf\n",
        "values = [value for value in range(30, 70)]\n",
        "probabilities = [dist.pdf(value) for value in values]\n",
        "pyplot.plot(values, probabilities)\n",
        "pyplot.show()\n",
        "#  cdf\n",
        "cprobs = [dist.cdf(value) for value in values]\n",
        "pyplot.plot(values, cprobs)\n",
        "pyplot.show()"
      ],
      "execution_count": null,
      "outputs": [
        {
          "output_type": "stream",
          "text": [
            "Middle 95% between 40.2 and 59.8\n"
          ],
          "name": "stdout"
        },
        {
          "output_type": "display_data",
          "data": {
            "image/png": "[encoded data removed]",
            "text/plain": [
              "<Figure size 432x288 with 1 Axes>"
            ]
          },
          "metadata": {
            "tags": []
          }
        },
        {
          "output_type": "display_data",
          "data": {
            "image/png": "[encoded data removed]",
            "text/plain": [
              "<Figure size 432x288 with 1 Axes>"
            ]
          },
          "metadata": {
            "tags": []
          }
        }
      ]
    },
    {
      "cell_type": "code",
      "metadata": {
        "id": "TwHpGzNHowfz",
        "outputId": "33418611-2d4a-4951-bbf2-3235da3e5ca1",
        "colab": {
          "base_uri": "https://localhost:8080/",
          "height": 521
        }
      },
      "source": [
        "# Задаем распределение и его параметры\n",
        "beta = 50\n",
        "dist = expon(beta)\n",
        "#  pdf\n",
        "values = [value for value in range(50, 70)]\n",
        "probabilities = [dist.pdf(value) for value in values]\n",
        "pyplot.plot(values, probabilities)\n",
        "pyplot.show()\n",
        "#  cdf\n",
        "cprobs = [dist.cdf(value) for value in values]\n",
        "pyplot.plot(values, cprobs)\n",
        "pyplot.show()"
      ],
      "execution_count": null,
      "outputs": [
        {
          "output_type": "display_data",
          "data": {
            "image/png": "[encoded data removed]",
            "text/plain": [
              "<Figure size 432x288 with 1 Axes>"
            ]
          },
          "metadata": {
            "tags": []
          }
        },
        {
          "output_type": "display_data",
          "data": {
            "image/png": "[encoded data removed]",
            "text/plain": [
              "<Figure size 432x288 with 1 Axes>"
            ]
          },
          "metadata": {
            "tags": []
          }
        }
      ]
    },
    {
      "cell_type": "code",
      "metadata": {
        "id": "vuJyNLJ2pcHs"
      },
      "source": [
        ""
      ],
      "execution_count": null,
      "outputs": []
    },
    {
      "cell_type": "code",
      "metadata": {
        "id": "pogo0du9nzGq"
      },
      "source": [
        ""
      ],
      "execution_count": null,
      "outputs": []
    },
    {
      "cell_type": "markdown",
      "metadata": {
        "id": "7l1ZOAU9mF3b"
      },
      "source": [
        ""
      ]
    }
  ]
}